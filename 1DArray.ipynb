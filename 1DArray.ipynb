{
 "cells": [
  {
   "cell_type": "markdown",
   "id": "a38e0c25",
   "metadata": {},
   "source": [
    "Navaneeth Krishnan\n",
    "24-08-22"
   ]
  },
  {
   "cell_type": "markdown",
   "id": "7ab2b7a5",
   "metadata": {},
   "source": [
    "Programs to handle data using Pandas\n",
    "15.Write a Pandas program to create and display a Series."
   ]
  },
  {
   "cell_type": "code",
   "execution_count": 5,
   "id": "903b7226",
   "metadata": {},
   "outputs": [
    {
     "name": "stdout",
     "output_type": "stream",
     "text": [
      "0    0\n",
      "1    1\n",
      "2    2\n",
      "3    3\n",
      "dtype: int64\n"
     ]
    }
   ],
   "source": [
    "import pandas as pd\n",
    "arr=[0,1,2,3]\n",
    "a=pd.Series(arr)\n",
    "print(a)"
   ]
  },
  {
   "cell_type": "markdown",
   "id": "176318b7",
   "metadata": {},
   "source": [
    "16.Write a Pandas program to add, substract, multiply and divide two Pandas Series"
   ]
  },
  {
   "cell_type": "code",
   "execution_count": 15,
   "id": "9aaa39dd",
   "metadata": {},
   "outputs": [
    {
     "name": "stdout",
     "output_type": "stream",
     "text": [
      "Sum :\n",
      " 0     6\n",
      "1     8\n",
      "2    10\n",
      "3    12\n",
      "dtype: int64\n",
      "Difference :\n",
      " 0   -4\n",
      "1   -4\n",
      "2   -4\n",
      "3   -4\n",
      "dtype: int64\n",
      "Product :\n",
      " 0     5\n",
      "1    12\n",
      "2    21\n",
      "3    32\n",
      "dtype: int64\n",
      "Division :\n",
      " 0    0.200000\n",
      "1    0.333333\n",
      "2    0.428571\n",
      "3    0.500000\n",
      "dtype: float64\n"
     ]
    }
   ],
   "source": [
    "import pandas as pd\n",
    "arr1=[1,2,3,4]\n",
    "arr2=[5,6,7,8]\n",
    "a=pd.Series(arr1)\n",
    "b=pd.Series(arr2)\n",
    "print(\"Sum :\\n\",a+b)\n",
    "print(\"Difference :\\n\",a-b)\n",
    "print(\"Product :\\n\",a*b)\n",
    "print(\"Division :\\n\",a/b)"
   ]
  },
  {
   "cell_type": "markdown",
   "id": "d39047ca",
   "metadata": {},
   "source": [
    "17.Write a panda program to create a single dataframe and save it as a csv file"
   ]
  },
  {
   "cell_type": "code",
   "execution_count": 56,
   "id": "29d671da",
   "metadata": {},
   "outputs": [
    {
     "name": "stdout",
     "output_type": "stream",
     "text": [
      "     Name  Mark\n",
      "0    John  50.0\n",
      "1  Joseph  40.0\n",
      "2    Anil   NaN\n"
     ]
    },
    {
     "data": {
      "text/html": [
       "<div>\n",
       "<style scoped>\n",
       "    .dataframe tbody tr th:only-of-type {\n",
       "        vertical-align: middle;\n",
       "    }\n",
       "\n",
       "    .dataframe tbody tr th {\n",
       "        vertical-align: top;\n",
       "    }\n",
       "\n",
       "    .dataframe thead th {\n",
       "        text-align: right;\n",
       "    }\n",
       "</style>\n",
       "<table border=\"1\" class=\"dataframe\">\n",
       "  <thead>\n",
       "    <tr style=\"text-align: right;\">\n",
       "      <th></th>\n",
       "      <th>Name</th>\n",
       "      <th>Mark</th>\n",
       "    </tr>\n",
       "  </thead>\n",
       "  <tbody>\n",
       "    <tr>\n",
       "      <th>0</th>\n",
       "      <td>John</td>\n",
       "      <td>50.0</td>\n",
       "    </tr>\n",
       "    <tr>\n",
       "      <th>1</th>\n",
       "      <td>Joseph</td>\n",
       "      <td>40.0</td>\n",
       "    </tr>\n",
       "    <tr>\n",
       "      <th>2</th>\n",
       "      <td>Anil</td>\n",
       "      <td>NaN</td>\n",
       "    </tr>\n",
       "  </tbody>\n",
       "</table>\n",
       "</div>"
      ],
      "text/plain": [
       "     Name  Mark\n",
       "0    John  50.0\n",
       "1  Joseph  40.0\n",
       "2    Anil   NaN"
      ]
     },
     "execution_count": 56,
     "metadata": {},
     "output_type": "execute_result"
    }
   ],
   "source": [
    "import pandas as pd\n",
    "import numpy as np\n",
    "data={\"Name\": ['John','Joseph','Anil'],\"Mark\": [50, 40,np.nan]}\n",
    "df=pd.DataFrame(data)\n",
    "print(df)\n",
    "df.to_csv('exam_data.csv',index=False)\n",
    "pd.read_csv('exam_data.csv')"
   ]
  },
  {
   "cell_type": "markdown",
   "id": "13d1e024",
   "metadata": {},
   "source": [
    "18.Write a Pandas program to create and display a DataFrame from a specified dictionary data(10 records) which has the fields 1)name 2)Score 3)Attempts 4)Qualify\n",
    "a)select the 'name' and ‘qualify’ columns from the following DataFrame\n",
    "b)select the rows where the number of attempts in the examination is greater than 2\n",
    "c)count the number of rows and columns of the DataFrame\n",
    "d)Number of attempts in the examination is less than 2 and score greater than 10\n"
   ]
  },
  {
   "cell_type": "code",
   "execution_count": 58,
   "id": "7bd3ecc0",
   "metadata": {},
   "outputs": [
    {
     "name": "stdout",
     "output_type": "stream",
     "text": [
      "     Name Qualify\n",
      "0    John     Yes\n",
      "1  Joseph     Yes\n",
      "2    Anil      No\n",
      "3     Tom      No\n",
      "4    Tony     Yes\n",
      "5   Jerry     Yes\n",
      "6   Jacob     Yes\n",
      "7   Athul     Yes\n",
      "8   Nibin      No\n",
      "9   Dibin     Yes\n",
      "\n",
      " Number of attempts grearter than two :\n",
      "\n",
      "    Name  Score  Attempts Qualify\n",
      "2   Anil    7.0         3      No\n",
      "3    Tom    5.0         4      No\n",
      "7  Athul   10.5         3     Yes\n",
      "9  Dibin   20.0         4     Yes\n",
      "\n",
      " Number of rows and columns in the Data Frame :\n",
      "\n",
      "10 and 4\n",
      "\n",
      " Number of attempts in the examination is less than 2 and score greater than 10 :\n",
      "\n",
      "    Name  Score  Attempts Qualify\n",
      "0   John   18.0         1     Yes\n",
      "4   Tony   15.0         1     Yes\n",
      "6  Jacob   16.0         1     Yes\n"
     ]
    },
    {
     "data": {
      "text/html": [
       "<div>\n",
       "<style scoped>\n",
       "    .dataframe tbody tr th:only-of-type {\n",
       "        vertical-align: middle;\n",
       "    }\n",
       "\n",
       "    .dataframe tbody tr th {\n",
       "        vertical-align: top;\n",
       "    }\n",
       "\n",
       "    .dataframe thead th {\n",
       "        text-align: right;\n",
       "    }\n",
       "</style>\n",
       "<table border=\"1\" class=\"dataframe\">\n",
       "  <thead>\n",
       "    <tr style=\"text-align: right;\">\n",
       "      <th></th>\n",
       "      <th>Score</th>\n",
       "      <th>Attempts</th>\n",
       "    </tr>\n",
       "  </thead>\n",
       "  <tbody>\n",
       "    <tr>\n",
       "      <th>count</th>\n",
       "      <td>10.000000</td>\n",
       "      <td>10.000000</td>\n",
       "    </tr>\n",
       "    <tr>\n",
       "      <th>mean</th>\n",
       "      <td>13.850000</td>\n",
       "      <td>2.300000</td>\n",
       "    </tr>\n",
       "    <tr>\n",
       "      <th>std</th>\n",
       "      <td>5.735126</td>\n",
       "      <td>1.159502</td>\n",
       "    </tr>\n",
       "    <tr>\n",
       "      <th>min</th>\n",
       "      <td>5.000000</td>\n",
       "      <td>1.000000</td>\n",
       "    </tr>\n",
       "    <tr>\n",
       "      <th>25%</th>\n",
       "      <td>8.625000</td>\n",
       "      <td>1.250000</td>\n",
       "    </tr>\n",
       "    <tr>\n",
       "      <th>50%</th>\n",
       "      <td>15.500000</td>\n",
       "      <td>2.000000</td>\n",
       "    </tr>\n",
       "    <tr>\n",
       "      <th>75%</th>\n",
       "      <td>18.750000</td>\n",
       "      <td>3.000000</td>\n",
       "    </tr>\n",
       "    <tr>\n",
       "      <th>max</th>\n",
       "      <td>20.000000</td>\n",
       "      <td>4.000000</td>\n",
       "    </tr>\n",
       "  </tbody>\n",
       "</table>\n",
       "</div>"
      ],
      "text/plain": [
       "           Score   Attempts\n",
       "count  10.000000  10.000000\n",
       "mean   13.850000   2.300000\n",
       "std     5.735126   1.159502\n",
       "min     5.000000   1.000000\n",
       "25%     8.625000   1.250000\n",
       "50%    15.500000   2.000000\n",
       "75%    18.750000   3.000000\n",
       "max    20.000000   4.000000"
      ]
     },
     "execution_count": 58,
     "metadata": {},
     "output_type": "execute_result"
    }
   ],
   "source": [
    "import pandas as pd\n",
    "data={'Name':['John','Joseph','Anil','Tom','Tony','Jerry','Jacob','Athul','Nibin','Dibin'],\n",
    "      'Score':[18,20,7,5,15,19,16,10.5,8,20],\n",
    "      'Attempts':[1,2,3,4,1,2,1,3,2,4],\n",
    "      'Qualify':['Yes','Yes','No','No','Yes','Yes','Yes','Yes','No','Yes']\n",
    "     }\n",
    "df=pd.DataFrame(data)\n",
    "print(df[['Name','Qualify']])\n",
    "print('\\n Number of attempts grearter than two :\\n')\n",
    "print(df[df['Attempts']>2])\n",
    "print('\\n Number of rows and columns in the Data Frame :\\n')\n",
    "print(len(df.axes[0]),'and',len(df.axes[1]))\n",
    "print('\\n Number of attempts in the examination is less than 2 and score greater than 10 :\\n')\n",
    "print(df[(df['Attempts']<2)&(df['Score']>10)])\n",
    "df.describe()"
   ]
  }
 ],
 "metadata": {
  "kernelspec": {
   "display_name": "Python 3 (ipykernel)",
   "language": "python",
   "name": "python3"
  },
  "language_info": {
   "codemirror_mode": {
    "name": "ipython",
    "version": 3
   },
   "file_extension": ".py",
   "mimetype": "text/x-python",
   "name": "python",
   "nbconvert_exporter": "python",
   "pygments_lexer": "ipython3",
   "version": "3.9.12"
  }
 },
 "nbformat": 4,
 "nbformat_minor": 5
}
