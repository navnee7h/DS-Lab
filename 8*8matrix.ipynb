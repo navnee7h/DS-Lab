{
 "cells": [
  {
   "cell_type": "markdown",
   "id": "3a361cba",
   "metadata": {},
   "source": [
    "6.Write a numpy program to create a 8x8 matrix and fill it with a checkerboard pattern."
   ]
  },
  {
   "cell_type": "code",
   "execution_count": 6,
   "id": "555631b9",
   "metadata": {},
   "outputs": [
    {
     "name": "stdout",
     "output_type": "stream",
     "text": [
      "Checkerboard pattern: \n",
      "[[0 1 0 1 0 1 0 1]\n",
      " [1 0 1 0 1 0 1 0]\n",
      " [0 1 0 1 0 1 0 1]\n",
      " [1 0 1 0 1 0 1 0]\n",
      " [0 1 0 1 0 1 0 1]\n",
      " [1 0 1 0 1 0 1 0]\n",
      " [0 1 0 1 0 1 0 1]\n",
      " [1 0 1 0 1 0 1 0]]\n"
     ]
    }
   ],
   "source": [
    "import numpy as np\n",
    "def checkerBoard(n):\n",
    "    print(\"Checkerboard pattern: \")\n",
    "    arr=np.zeros((8,8),dtype=int)\n",
    "    arr[1::2,::2]=1\n",
    "    arr[::2,1::2]=1\n",
    "    print(arr)\n",
    "n=8\n",
    "checkerBoard(n)"
   ]
  },
  {
   "cell_type": "markdown",
   "id": "80eef612",
   "metadata": {},
   "source": [
    "7.Write a numpy program to test whether each element of a 1D array is also in a second array."
   ]
  },
  {
   "cell_type": "code",
   "execution_count": 10,
   "id": "1d050392",
   "metadata": {},
   "outputs": [
    {
     "name": "stdout",
     "output_type": "stream",
     "text": [
      "Array 1:  [4 7 0 3]\n",
      "Array 2:  [0 1 2]\n",
      "Comparing each element of array 1 and 2: \n",
      "[False False  True False]\n"
     ]
    }
   ],
   "source": [
    "import numpy as np\n",
    "arr1=np.array([4,7,0,3,])\n",
    "print(\"Array 1: \",arr1)\n",
    "arr2=np.array([0,1,2])\n",
    "print(\"Array 2: \",arr2)\n",
    "print(\"Comparing each element of array 1 and 2: \")\n",
    "print(np.in1d(arr1,arr2))"
   ]
  },
  {
   "cell_type": "markdown",
   "id": "24fafa17",
   "metadata": {},
   "source": [
    "8.Create a numpy program to :\n",
    "a)Create two arrays\n",
    "b)Find the common elements in the created two arrays\n",
    "c)Find the union of the created two arrays"
   ]
  },
  {
   "cell_type": "code",
   "execution_count": 12,
   "id": "8f2f97b9",
   "metadata": {},
   "outputs": [
    {
     "name": "stdout",
     "output_type": "stream",
     "text": [
      "[0 1 2 3 4 5]\n",
      "[1 2 9]\n",
      "Common Elements : [1 2]\n",
      "Union of arrays:  [0 1 2 3 4 5 9]\n"
     ]
    }
   ],
   "source": [
    "import numpy as np\n",
    "arr1=np.array([0,1,2,3,4,5])\n",
    "print(arr1)\n",
    "arr2=np.array([1,2,9])\n",
    "print(arr2)\n",
    "print(\"Common Elements :\",np.intersect1d(arr1,arr2))\n",
    "print(\"Union of arrays: \",np.union1d(arr1,arr2))"
   ]
  },
  {
   "cell_type": "markdown",
   "id": "fc5d1116",
   "metadata": {},
   "source": [
    "9.Write a numpy program to get unique elements of an array."
   ]
  },
  {
   "cell_type": "code",
   "execution_count": 13,
   "id": "f051726d",
   "metadata": {},
   "outputs": [
    {
     "name": "stdout",
     "output_type": "stream",
     "text": [
      "Unique elements of the array:  [ 0  1  2  3  4  6  8 25]\n"
     ]
    }
   ],
   "source": [
    "import numpy as np\n",
    "arr=np.array([0,1,1,25,2,4,6,3,3,8])\n",
    "print(\"Unique elements of the array: \",np.unique(arr))"
   ]
  },
  {
   "cell_type": "markdown",
   "id": "ee49672c",
   "metadata": {},
   "source": [
    "10.Write a program to convert numpy array to python list sructure."
   ]
  },
  {
   "cell_type": "code",
   "execution_count": 18,
   "id": "2bfbffaf",
   "metadata": {},
   "outputs": [
    {
     "name": "stdout",
     "output_type": "stream",
     "text": [
      "Array:  [0 1 2 3 4 5]\n",
      "List:  [0, 1, 2, 3, 4, 5]\n"
     ]
    }
   ],
   "source": [
    "import numpy as np\n",
    "arr=np.arange(0,6)\n",
    "print(\"Array: \",arr)\n",
    "ls=arr.tolist()\n",
    "print(\"List: \",ls)"
   ]
  },
  {
   "cell_type": "code",
   "execution_count": 30,
   "id": "56171f81",
   "metadata": {},
   "outputs": [
    {
     "name": "stdout",
     "output_type": "stream",
     "text": [
      "[[0 0 0 0 1 1 1 1]\n",
      " [1 1 1 1 0 0 0 0]\n",
      " [0 0 0 0 1 1 1 1]\n",
      " [1 1 1 1 0 0 0 0]\n",
      " [0 0 0 0 1 1 1 1]\n",
      " [1 1 1 1 0 0 0 0]\n",
      " [0 0 0 0 1 1 1 1]\n",
      " [1 1 1 1 0 0 0 0]]\n"
     ]
    }
   ],
   "source": [
    "import numpy as np\n",
    "arr=np.zeros((8,8),dtype=int)\n",
    "arr[0::2,4::1]=1\n",
    "arr[1::2,0:4:1]=1\n",
    "print(arr)"
   ]
  },
  {
   "cell_type": "code",
   "execution_count": 31,
   "id": "f327d8ae",
   "metadata": {},
   "outputs": [
    {
     "name": "stdout",
     "output_type": "stream",
     "text": [
      "[[1 1 0 0 1 1 0 0]\n",
      " [0 0 1 1 0 0 1 1]\n",
      " [1 1 0 0 1 1 0 0]\n",
      " [0 0 1 1 0 0 1 1]\n",
      " [1 1 0 0 1 1 0 0]\n",
      " [0 0 1 1 0 0 1 1]\n",
      " [1 1 0 0 1 1 0 0]\n",
      " [0 0 1 1 0 0 1 1]]\n"
     ]
    }
   ],
   "source": [
    "import numpy as np\n",
    "arr=np.zeros((8,8),dtype=int)\n",
    "arr[0::2,:2:1]=1\n",
    "arr[0::2,4:6:1]=1\n",
    "arr[1::2,2:4:1]=1\n",
    "arr[1::2,6:8:1]=1\n",
    "print(arr)"
   ]
  },
  {
   "cell_type": "markdown",
   "id": "a93082c1",
   "metadata": {},
   "source": [
    "11.Write a numpy program to access array by column."
   ]
  },
  {
   "cell_type": "code",
   "execution_count": 33,
   "id": "d3fcf67e",
   "metadata": {},
   "outputs": [
    {
     "name": "stdout",
     "output_type": "stream",
     "text": [
      "[[0 1]\n",
      " [2 3]\n",
      " [4 5]\n",
      " [6 7]\n",
      " [8 9]]\n",
      "Elements of first column:  [0 2 4 6 8]\n",
      "Elements of Second column:  [1 3 5 7 9]\n"
     ]
    }
   ],
   "source": [
    "import numpy as np\n",
    "arr=np.arange(0,10)\n",
    "arr=arr.reshape(5,2)\n",
    "print(arr)\n",
    "print(\"Elements of first column: \",arr[:,0])\n",
    "print(\"Elements of Second column: \",arr[:,1])"
   ]
  },
  {
   "cell_type": "raw",
   "id": "5c5d0101",
   "metadata": {},
   "source": [
    "12.Write a numpy program to compute\n",
    "    a.Multiplication of 2 given matrices\n",
    "    b.Addition"
   ]
  },
  {
   "cell_type": "code",
   "execution_count": 10,
   "id": "bf241d55",
   "metadata": {},
   "outputs": [
    {
     "name": "stdout",
     "output_type": "stream",
     "text": [
      "First matrix :\n",
      " [[1 2]\n",
      " [3 4]]\n",
      "Second Matrix :\n",
      " [[6 7]\n",
      " [8 9]]\n",
      "Multiplied matrix: \n",
      " [[22 25]\n",
      " [50 57]]\n",
      "Added matrix: \n",
      " [[ 7  9]\n",
      " [11 13]]\n"
     ]
    }
   ],
   "source": [
    "import numpy as np\n",
    "mat1=np.arange(1,5).reshape(2,2)\n",
    "mat2=np.arange(6,10).reshape(2,2)\n",
    "print(\"First matrix :\\n\",mat1)\n",
    "print(\"Second Matrix :\\n\",mat2)\n",
    "mult=np.dot(mat1,mat2)\n",
    "addt=np.add(mat1,mat2)\n",
    "print(\"Multiplied matrix: \\n\",mult)\n",
    "print(\"Added matrix: \\n\",addt)"
   ]
  },
  {
   "cell_type": "markdown",
   "id": "ac1715d3",
   "metadata": {},
   "source": [
    "13.Write a numpy program to find eigen values and eigen vectors of a given matrix."
   ]
  },
  {
   "cell_type": "code",
   "execution_count": 17,
   "id": "86228d0a",
   "metadata": {},
   "outputs": [
    {
     "name": "stdout",
     "output_type": "stream",
     "text": [
      "Matrix is: \n",
      " [[1 2]\n",
      " [3 4]]\n",
      "Eigen values:  [-0.37228132  5.37228132]\n",
      "Eigen vectors: \n",
      " [[-0.82456484 -0.41597356]\n",
      " [ 0.56576746 -0.90937671]]\n"
     ]
    }
   ],
   "source": [
    "import numpy as np\n",
    "mat=np.arange(1,5).reshape(2,2)\n",
    "print(\"Matrix is: \\n\",mat)\n",
    "val,vec=np.linalg.eig(mat)\n",
    "print(\"Eigen values: \",val)\n",
    "print(\"Eigen vectors: \\n\",vec)"
   ]
  },
  {
   "cell_type": "markdown",
   "id": "50b3a710",
   "metadata": {},
   "source": [
    "14.Write a program to find transpose, determinant and inverse of a matrix."
   ]
  },
  {
   "cell_type": "code",
   "execution_count": 30,
   "id": "2280c5ce",
   "metadata": {},
   "outputs": [
    {
     "name": "stdout",
     "output_type": "stream",
     "text": [
      "Matrix: \n",
      " [[1 2]\n",
      " [3 4]]\n",
      "Transpose: \n",
      " [[1 3]\n",
      " [2 4]]\n",
      "Determinant:  -2\n",
      "Inverse: \n",
      " [[-2.   1. ]\n",
      " [ 1.5 -0.5]]\n"
     ]
    }
   ],
   "source": [
    "import numpy as np\n",
    "mat=np.arange(1,5).reshape(2,2)\n",
    "print(\"Matrix: \\n\",mat)\n",
    "print(\"Transpose: \\n\",np.transpose(mat))\n",
    "print(\"Determinant: \",int(np.linalg.det(mat)))\n",
    "print(\"Inverse: \\n\",np.linalg.inv(mat))"
   ]
  }
 ],
 "metadata": {
  "kernelspec": {
   "display_name": "Python 3 (ipykernel)",
   "language": "python",
   "name": "python3"
  },
  "language_info": {
   "codemirror_mode": {
    "name": "ipython",
    "version": 3
   },
   "file_extension": ".py",
   "mimetype": "text/x-python",
   "name": "python",
   "nbconvert_exporter": "python",
   "pygments_lexer": "ipython3",
   "version": "3.9.12"
  }
 },
 "nbformat": 4,
 "nbformat_minor": 5
}
