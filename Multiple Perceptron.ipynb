{
 "cells": [
  {
   "cell_type": "markdown",
   "id": "6b0119cf",
   "metadata": {},
   "source": [
    "Navaneeth Krishnan\n",
    "10-11-22"
   ]
  },
  {
   "cell_type": "code",
   "execution_count": 21,
   "id": "af76a36b",
   "metadata": {},
   "outputs": [],
   "source": [
    "import numpy as np\n",
    "import pandas as pd\n",
    "import matplotlib.pyplot as plt\n",
    "\n",
    "import sklearn\n",
    "from sklearn.neural_network import MLPClassifier"
   ]
  },
  {
   "cell_type": "code",
   "execution_count": 8,
   "id": "3698fdf9",
   "metadata": {},
   "outputs": [
    {
     "name": "stdout",
     "output_type": "stream",
     "text": [
      "<class 'pandas.core.frame.DataFrame'>\n",
      "RangeIndex: 768 entries, 0 to 767\n",
      "Data columns (total 9 columns):\n",
      " #   Column                    Non-Null Count  Dtype  \n",
      "---  ------                    --------------  -----  \n",
      " 0   Pregnancies               768 non-null    int64  \n",
      " 1   Glucose                   768 non-null    int64  \n",
      " 2   BloodPressure             768 non-null    int64  \n",
      " 3   SkinThickness             768 non-null    int64  \n",
      " 4   Insulin                   768 non-null    int64  \n",
      " 5   BMI                       768 non-null    float64\n",
      " 6   DiabetesPedigreeFunction  768 non-null    float64\n",
      " 7   Age                       768 non-null    int64  \n",
      " 8   Outcome                   768 non-null    int64  \n",
      "dtypes: float64(2), int64(7)\n",
      "memory usage: 54.1 KB\n"
     ]
    }
   ],
   "source": [
    "db = pd.read_csv('diabetes.csv')\n",
    "db.info()"
   ]
  },
  {
   "cell_type": "code",
   "execution_count": 10,
   "id": "861d901c",
   "metadata": {},
   "outputs": [
    {
     "name": "stdout",
     "output_type": "stream",
     "text": [
      "(768, 9)\n"
     ]
    },
    {
     "data": {
      "text/html": [
       "<div>\n",
       "<style scoped>\n",
       "    .dataframe tbody tr th:only-of-type {\n",
       "        vertical-align: middle;\n",
       "    }\n",
       "\n",
       "    .dataframe tbody tr th {\n",
       "        vertical-align: top;\n",
       "    }\n",
       "\n",
       "    .dataframe thead th {\n",
       "        text-align: right;\n",
       "    }\n",
       "</style>\n",
       "<table border=\"1\" class=\"dataframe\">\n",
       "  <thead>\n",
       "    <tr style=\"text-align: right;\">\n",
       "      <th></th>\n",
       "      <th>count</th>\n",
       "      <th>mean</th>\n",
       "      <th>std</th>\n",
       "      <th>min</th>\n",
       "      <th>25%</th>\n",
       "      <th>50%</th>\n",
       "      <th>75%</th>\n",
       "      <th>max</th>\n",
       "    </tr>\n",
       "  </thead>\n",
       "  <tbody>\n",
       "    <tr>\n",
       "      <th>Pregnancies</th>\n",
       "      <td>768.0</td>\n",
       "      <td>3.845052</td>\n",
       "      <td>3.369578</td>\n",
       "      <td>0.000</td>\n",
       "      <td>1.00000</td>\n",
       "      <td>3.0000</td>\n",
       "      <td>6.00000</td>\n",
       "      <td>17.00</td>\n",
       "    </tr>\n",
       "    <tr>\n",
       "      <th>Glucose</th>\n",
       "      <td>768.0</td>\n",
       "      <td>120.894531</td>\n",
       "      <td>31.972618</td>\n",
       "      <td>0.000</td>\n",
       "      <td>99.00000</td>\n",
       "      <td>117.0000</td>\n",
       "      <td>140.25000</td>\n",
       "      <td>199.00</td>\n",
       "    </tr>\n",
       "    <tr>\n",
       "      <th>BloodPressure</th>\n",
       "      <td>768.0</td>\n",
       "      <td>69.105469</td>\n",
       "      <td>19.355807</td>\n",
       "      <td>0.000</td>\n",
       "      <td>62.00000</td>\n",
       "      <td>72.0000</td>\n",
       "      <td>80.00000</td>\n",
       "      <td>122.00</td>\n",
       "    </tr>\n",
       "    <tr>\n",
       "      <th>SkinThickness</th>\n",
       "      <td>768.0</td>\n",
       "      <td>20.536458</td>\n",
       "      <td>15.952218</td>\n",
       "      <td>0.000</td>\n",
       "      <td>0.00000</td>\n",
       "      <td>23.0000</td>\n",
       "      <td>32.00000</td>\n",
       "      <td>99.00</td>\n",
       "    </tr>\n",
       "    <tr>\n",
       "      <th>Insulin</th>\n",
       "      <td>768.0</td>\n",
       "      <td>79.799479</td>\n",
       "      <td>115.244002</td>\n",
       "      <td>0.000</td>\n",
       "      <td>0.00000</td>\n",
       "      <td>30.5000</td>\n",
       "      <td>127.25000</td>\n",
       "      <td>846.00</td>\n",
       "    </tr>\n",
       "    <tr>\n",
       "      <th>BMI</th>\n",
       "      <td>768.0</td>\n",
       "      <td>31.992578</td>\n",
       "      <td>7.884160</td>\n",
       "      <td>0.000</td>\n",
       "      <td>27.30000</td>\n",
       "      <td>32.0000</td>\n",
       "      <td>36.60000</td>\n",
       "      <td>67.10</td>\n",
       "    </tr>\n",
       "    <tr>\n",
       "      <th>DiabetesPedigreeFunction</th>\n",
       "      <td>768.0</td>\n",
       "      <td>0.471876</td>\n",
       "      <td>0.331329</td>\n",
       "      <td>0.078</td>\n",
       "      <td>0.24375</td>\n",
       "      <td>0.3725</td>\n",
       "      <td>0.62625</td>\n",
       "      <td>2.42</td>\n",
       "    </tr>\n",
       "    <tr>\n",
       "      <th>Age</th>\n",
       "      <td>768.0</td>\n",
       "      <td>33.240885</td>\n",
       "      <td>11.760232</td>\n",
       "      <td>21.000</td>\n",
       "      <td>24.00000</td>\n",
       "      <td>29.0000</td>\n",
       "      <td>41.00000</td>\n",
       "      <td>81.00</td>\n",
       "    </tr>\n",
       "    <tr>\n",
       "      <th>Outcome</th>\n",
       "      <td>768.0</td>\n",
       "      <td>0.348958</td>\n",
       "      <td>0.476951</td>\n",
       "      <td>0.000</td>\n",
       "      <td>0.00000</td>\n",
       "      <td>0.0000</td>\n",
       "      <td>1.00000</td>\n",
       "      <td>1.00</td>\n",
       "    </tr>\n",
       "  </tbody>\n",
       "</table>\n",
       "</div>"
      ],
      "text/plain": [
       "                          count        mean         std     min       25%  \\\n",
       "Pregnancies               768.0    3.845052    3.369578   0.000   1.00000   \n",
       "Glucose                   768.0  120.894531   31.972618   0.000  99.00000   \n",
       "BloodPressure             768.0   69.105469   19.355807   0.000  62.00000   \n",
       "SkinThickness             768.0   20.536458   15.952218   0.000   0.00000   \n",
       "Insulin                   768.0   79.799479  115.244002   0.000   0.00000   \n",
       "BMI                       768.0   31.992578    7.884160   0.000  27.30000   \n",
       "DiabetesPedigreeFunction  768.0    0.471876    0.331329   0.078   0.24375   \n",
       "Age                       768.0   33.240885   11.760232  21.000  24.00000   \n",
       "Outcome                   768.0    0.348958    0.476951   0.000   0.00000   \n",
       "\n",
       "                               50%        75%     max  \n",
       "Pregnancies                 3.0000    6.00000   17.00  \n",
       "Glucose                   117.0000  140.25000  199.00  \n",
       "BloodPressure              72.0000   80.00000  122.00  \n",
       "SkinThickness              23.0000   32.00000   99.00  \n",
       "Insulin                    30.5000  127.25000  846.00  \n",
       "BMI                        32.0000   36.60000   67.10  \n",
       "DiabetesPedigreeFunction    0.3725    0.62625    2.42  \n",
       "Age                        29.0000   41.00000   81.00  \n",
       "Outcome                     0.0000    1.00000    1.00  "
      ]
     },
     "execution_count": 10,
     "metadata": {},
     "output_type": "execute_result"
    }
   ],
   "source": [
    "print(db.shape)\n",
    "db.describe().transpose()"
   ]
  },
  {
   "cell_type": "code",
   "execution_count": 11,
   "id": "bb4f6ab3",
   "metadata": {},
   "outputs": [
    {
     "data": {
      "text/plain": [
       "0    500\n",
       "1    268\n",
       "Name: Outcome, dtype: int64"
      ]
     },
     "execution_count": 11,
     "metadata": {},
     "output_type": "execute_result"
    }
   ],
   "source": [
    "db.Outcome.value_counts()"
   ]
  },
  {
   "cell_type": "code",
   "execution_count": 13,
   "id": "b2169d38",
   "metadata": {},
   "outputs": [
    {
     "name": "stdout",
     "output_type": "stream",
     "text": [
      "     Pregnancies  Glucose  BloodPressure  SkinThickness  Insulin   BMI  \\\n",
      "0              6      148             72             35        0  33.6   \n",
      "1              1       85             66             29        0  26.6   \n",
      "2              8      183             64              0        0  23.3   \n",
      "3              1       89             66             23       94  28.1   \n",
      "4              0      137             40             35      168  43.1   \n",
      "..           ...      ...            ...            ...      ...   ...   \n",
      "763           10      101             76             48      180  32.9   \n",
      "764            2      122             70             27        0  36.8   \n",
      "765            5      121             72             23      112  26.2   \n",
      "766            1      126             60              0        0  30.1   \n",
      "767            1       93             70             31        0  30.4   \n",
      "\n",
      "     DiabetesPedigreeFunction  Age  \n",
      "0                       0.627   50  \n",
      "1                       0.351   31  \n",
      "2                       0.672   32  \n",
      "3                       0.167   21  \n",
      "4                       2.288   33  \n",
      "..                        ...  ...  \n",
      "763                     0.171   63  \n",
      "764                     0.340   27  \n",
      "765                     0.245   30  \n",
      "766                     0.349   47  \n",
      "767                     0.315   23  \n",
      "\n",
      "[768 rows x 8 columns]\n",
      "0      1\n",
      "1      0\n",
      "2      1\n",
      "3      0\n",
      "4      1\n",
      "      ..\n",
      "763    0\n",
      "764    0\n",
      "765    0\n",
      "766    1\n",
      "767    0\n",
      "Name: Outcome, Length: 768, dtype: int64\n"
     ]
    }
   ],
   "source": [
    "y=db['Outcome']\n",
    "db=db.drop(['Outcome'],axis=1)\n",
    "x=db\n",
    "print(x)\n",
    "print(y)\n"
   ]
  },
  {
   "cell_type": "code",
   "execution_count": 16,
   "id": "484e5c56",
   "metadata": {},
   "outputs": [
    {
     "name": "stdout",
     "output_type": "stream",
     "text": [
      "(537, 8) (231, 8)\n"
     ]
    }
   ],
   "source": [
    "from sklearn.model_selection import train_test_split\n",
    "xtr,xt,ytr,yt= train_test_split(x, y, test_size= 0.3, random_state=0)\n",
    "print(xtr.shape,xt.shape)"
   ]
  },
  {
   "cell_type": "code",
   "execution_count": 18,
   "id": "250b2c99",
   "metadata": {},
   "outputs": [
    {
     "name": "stdout",
     "output_type": "stream",
     "text": [
      "[[0.         0.76262626 0.73770492 ... 0.62742176 0.12285959 0.        ]\n",
      " [0.05882353 0.41919192 0.55737705 ... 0.27123696 0.23116438 0.1       ]\n",
      " [0.11764706 0.61616162 0.57377049 ... 0.54843517 0.10958904 0.1       ]\n",
      " ...\n",
      " [0.23529412 0.47474747 0.53278689 ... 0.3681073  0.02739726 0.        ]\n",
      " [0.64705882 0.42929293 0.60655738 ... 0.4485842  0.09246575 0.23333333]\n",
      " [0.29411765 0.68686869 0.67213115 ... 0.         0.2380137  0.8       ]]\n"
     ]
    }
   ],
   "source": [
    "from sklearn.preprocessing import MinMaxScaler\n",
    "stx=MinMaxScaler()\n",
    "xtr=stx.fit_transform(xtr)\n",
    "xt=stx.transform(xt)\n",
    "print(xtr)"
   ]
  },
  {
   "cell_type": "code",
   "execution_count": 26,
   "id": "65fad95a",
   "metadata": {},
   "outputs": [
    {
     "name": "stderr",
     "output_type": "stream",
     "text": [
      "/home/student/.local/lib/python3.9/site-packages/sklearn/neural_network/_multilayer_perceptron.py:614: ConvergenceWarning: Stochastic Optimizer: Maximum iterations (500) reached and the optimization hasn't converged yet.\n",
      "  warnings.warn(\n"
     ]
    }
   ],
   "source": [
    "cls=MLPClassifier(hidden_layer_sizes=(8,8,8),activation='relu',solver='adam',max_iter=500)\n",
    "cls.fit(xtr,ytr)\n",
    "xp=cls.predict(xtr)\n",
    "yp=cls.predict(xt)"
   ]
  },
  {
   "cell_type": "code",
   "execution_count": 27,
   "id": "ee5d89a3",
   "metadata": {},
   "outputs": [
    {
     "name": "stdout",
     "output_type": "stream",
     "text": [
      "[1 0 0 1 0 0 1 1 0 0 1 1 0 0 0 0 1 0 0 0 1 1 0 0 0 0 0 0 0 0 0 0 0 0 0 1 1\n",
      " 0 0 0 0 0 0 1 1 0 0 1 1 1 0 0 1 0 0 0 0 1 1 1 1 0 0 1 1 1 1 0 0 0 0 0 0 0\n",
      " 1 0 0 0 0 0 0 0 0 0 0 0 1 0 1 0 0 0 0 0 0 0 1 0 1 1 0 0 0 0 0 1 0 0 0 1 0\n",
      " 1 1 1 1 1 0 0 0 1 0 0 0 0 0 0 0 1 0 0 0 0 0 1 0 1 0 1 1 0 0 0 0 0 1 0 0 0\n",
      " 0 1 0 1 0 0 1 0 0 0 1 1 1 1 0 0 0 1 0 0 0 0 0 0 1 1 0 0 0 0 0 0 1 1 0 1 1\n",
      " 0 1 1 1 0 0 0 0 0 0 1 1 0 0 0 0 0 0 0 1 0 0 0 1 0 1 0 0 0 0 0 1 1 0 0 1 0\n",
      " 1 1 0 0 1 1 0 0 0]\n"
     ]
    }
   ],
   "source": [
    "print(yt.values)"
   ]
  },
  {
   "cell_type": "code",
   "execution_count": 28,
   "id": "8890dbb5",
   "metadata": {},
   "outputs": [
    {
     "name": "stdout",
     "output_type": "stream",
     "text": [
      "[1 0 0 1 0 0 1 1 0 1 1 1 0 0 0 0 1 0 1 0 1 0 0 0 0 0 0 1 0 0 1 0 0 1 0 1 0\n",
      " 0 0 1 0 0 0 1 1 0 0 0 0 0 0 0 1 1 0 0 0 0 0 0 1 0 0 1 1 1 1 0 0 0 0 0 0 1\n",
      " 1 0 0 1 0 0 0 0 0 0 0 0 0 0 1 0 0 0 0 0 1 0 0 1 1 0 0 0 0 0 1 0 0 0 0 1 0\n",
      " 0 1 1 0 1 0 1 0 1 0 1 0 1 0 0 0 0 0 0 0 0 0 1 0 1 0 0 1 0 0 1 0 0 0 0 0 0\n",
      " 0 0 0 1 0 0 1 0 1 0 0 1 1 1 0 0 1 0 0 0 0 0 0 0 0 0 1 0 1 0 0 0 0 1 0 1 1\n",
      " 0 1 0 0 0 0 0 0 0 0 1 1 0 0 0 0 0 0 0 0 0 0 0 0 0 0 0 0 0 0 0 0 0 0 0 0 0\n",
      " 1 1 1 1 0 0 0 0 1]\n"
     ]
    }
   ],
   "source": [
    "print(yp)"
   ]
  },
  {
   "cell_type": "code",
   "execution_count": 29,
   "id": "23598c33",
   "metadata": {},
   "outputs": [
    {
     "name": "stdout",
     "output_type": "stream",
     "text": [
      "[[134  23]\n",
      " [ 33  41]]\n"
     ]
    }
   ],
   "source": [
    "from sklearn.metrics import confusion_matrix\n",
    "cm1=confusion_matrix(yt,yp)\n",
    "print(cm1)"
   ]
  },
  {
   "cell_type": "code",
   "execution_count": 31,
   "id": "b19d5c51",
   "metadata": {},
   "outputs": [
    {
     "name": "stdout",
     "output_type": "stream",
     "text": [
      "[[293  50]\n",
      " [ 66 128]]\n"
     ]
    }
   ],
   "source": [
    "from sklearn.metrics import confusion_matrix\n",
    "cm2=confusion_matrix(ytr,xp)\n",
    "print(cm2)"
   ]
  },
  {
   "cell_type": "code",
   "execution_count": 33,
   "id": "3f11df58",
   "metadata": {},
   "outputs": [
    {
     "data": {
      "text/plain": [
       "<sklearn.metrics._plot.confusion_matrix.ConfusionMatrixDisplay at 0x7fa25211a9d0>"
      ]
     },
     "execution_count": 33,
     "metadata": {},
     "output_type": "execute_result"
    },
    {
     "data": {
      "image/png": "[encoded data removed]",
      "text/plain": [
       "<Figure size 432x288 with 2 Axes>"
      ]
     },
     "metadata": {
      "needs_background": "light"
     },
     "output_type": "display_data"
    }
   ],
   "source": [
    "from sklearn.metrics import ConfusionMatrixDisplay\n",
    "dis=ConfusionMatrixDisplay(confusion_matrix=cm,display_labels=cls.classes_)\n",
    "dis.plot()"
   ]
  },
  {
   "cell_type": "code",
   "execution_count": 35,
   "id": "df7f6d4f",
   "metadata": {},
   "outputs": [
    {
     "name": "stdout",
     "output_type": "stream",
     "text": [
      "Accuracy score: 0.7575757575757576\n",
      "Precision score: 0.8023952095808383\n",
      "Recall score: 0.8535031847133758\n",
      "F1 score: 0.8271604938271604\n"
     ]
    }
   ],
   "source": [
    "from sklearn.metrics import accuracy_score, precision_score, recall_score, f1_score\n",
    "print('Accuracy score: {}'.format(accuracy_score(yt, yp)))\n",
    "print('Precision score: {}'.format(precision_score(yt, yp,pos_label=0)))\n",
    "print('Recall score: {}'.format(recall_score(yt, yp,pos_label=0)))\n",
    "print('F1 score: {}'.format(f1_score(yt, yp,pos_label=0)))"
   ]
  },
  {
   "cell_type": "code",
   "execution_count": 37,
   "id": "fbaeebcc",
   "metadata": {},
   "outputs": [
    {
     "data": {
      "text/plain": [
       "[array([[-1.04279718e-01, -1.19397174e-22,  3.55524595e-01,\n",
       "          5.73875512e-33, -4.71045830e-33, -7.85954804e-02,\n",
       "          1.16073304e-01, -7.99225309e-06],\n",
       "        [ 3.98154637e-01, -2.20648361e-11,  8.51285603e-01,\n",
       "         -4.96667890e-13, -3.06232203e-03, -1.19184570e-01,\n",
       "         -2.37622558e-01, -5.28111723e-12],\n",
       "        [-2.70728539e-02,  2.46794564e-18, -6.15491086e-02,\n",
       "         -5.76930971e-06, -6.43481220e-03, -5.08553102e-01,\n",
       "          7.60633538e-01, -9.40606116e-04],\n",
       "        [ 2.30907013e-01,  3.02872957e-07, -2.07862682e-01,\n",
       "         -2.91155819e-06, -1.01473531e-04,  2.06104110e-01,\n",
       "          3.13623830e-04, -5.60163315e-31],\n",
       "        [-2.12670339e-01,  1.44069167e-04,  4.91812082e-02,\n",
       "          4.88208774e-03,  7.34675263e-16, -1.03767596e-02,\n",
       "          6.88994831e-02,  2.07167536e-06],\n",
       "        [ 7.72811119e-01, -6.05493871e-03,  8.47655096e-02,\n",
       "         -4.03329681e-15, -3.80271223e-04, -5.98641025e-01,\n",
       "          3.20747374e-01,  1.16949680e-04],\n",
       "        [ 5.29123997e-01, -2.10471477e-03, -1.57149084e-01,\n",
       "         -6.33985606e-18,  3.85066303e-11,  5.38585461e-01,\n",
       "         -1.09088581e-01,  9.74089120e-18],\n",
       "        [ 4.66802914e-02, -4.16979875e-03,  7.39639438e-02,\n",
       "         -3.69479527e-04, -3.14774328e-25,  4.04063521e-01,\n",
       "         -1.04429285e+00,  2.03613232e-09]]),\n",
       " array([[-6.42527108e-01,  5.64142819e-01,  7.54502984e-01,\n",
       "          8.30329768e-01, -7.06165590e-01, -5.08146861e-01,\n",
       "          7.31869790e-04, -9.36871202e-01],\n",
       "        [-8.06972935e-09,  3.51131166e-04, -2.62821114e-12,\n",
       "         -4.88426964e-03, -1.02290185e-05,  6.34174855e-10,\n",
       "          3.93996769e-03,  1.58943931e-25],\n",
       "        [-2.70934828e-01,  9.44957144e-01,  5.08530636e-01,\n",
       "          1.71999918e-01,  7.11115041e-02, -6.88190111e-01,\n",
       "          1.51780010e-22, -3.43206663e-01],\n",
       "        [-1.69791445e-03, -2.72819024e-25,  1.92124834e-05,\n",
       "         -4.27751573e-03,  1.34861110e-32,  4.85007823e-08,\n",
       "         -9.60776241e-08,  2.31325143e-03],\n",
       "        [ 1.12764866e-34, -1.20897608e-09, -6.31314030e-06,\n",
       "          2.72657141e-09, -3.70616102e-03,  7.80404184e-28,\n",
       "         -1.21249678e-04,  6.99131215e-13],\n",
       "        [ 1.45293501e+00, -9.94251211e-01, -9.41571707e-01,\n",
       "         -1.20091836e+00,  1.14015475e+00,  4.68385310e-01,\n",
       "         -3.33626701e-32,  1.18450407e+00],\n",
       "        [ 4.41988815e-01, -1.46892779e-01,  5.63752753e-01,\n",
       "         -2.49497677e-01, -1.82845151e-01,  4.98426894e-01,\n",
       "         -7.02866731e-03,  7.35744956e-01],\n",
       "        [-1.03999903e-03,  3.78059820e-06,  8.37437407e-09,\n",
       "          6.26129634e-32, -7.85904139e-04,  6.90411947e-03,\n",
       "         -1.82494812e-08,  9.15030950e-07]]),\n",
       " array([[ 1.06228000e-01,  6.04322187e-01,  3.22422392e-01,\n",
       "         -4.30571082e-01, -2.74760218e-03,  6.19877058e-01,\n",
       "          5.11230504e-33,  1.22963609e-01],\n",
       "        [-7.08097884e-01, -3.85293040e-01,  6.19516806e-02,\n",
       "          2.32141859e-01,  2.47750382e-01, -4.25873035e-01,\n",
       "         -7.49796566e-03,  5.80920533e-01],\n",
       "        [-3.52982589e-02,  1.36846697e-01,  3.08015901e-01,\n",
       "          9.54097631e-01,  6.85750812e-01, -1.80262274e-01,\n",
       "         -2.37904592e-03, -8.13839729e-01],\n",
       "        [-1.94873823e-01, -5.55369589e-01,  6.11753473e-01,\n",
       "          3.39179067e-01,  5.50999676e-01, -5.10800435e-01,\n",
       "          3.62269235e-35,  1.27233506e-01],\n",
       "        [-3.33551027e-02,  9.87194363e-01, -1.24716241e-01,\n",
       "         -2.86136031e-01,  2.28103199e-01, -1.61476270e-01,\n",
       "         -1.59649247e-03,  2.80173333e-01],\n",
       "        [ 6.95435627e-01,  5.22503067e-01, -6.92680490e-01,\n",
       "         -4.21860462e-01, -2.45015737e-01,  9.61152175e-01,\n",
       "         -9.76964632e-06, -8.48796782e-01],\n",
       "        [-4.73743411e-24, -1.17181357e-31,  4.33029735e-14,\n",
       "          1.90017428e-09, -1.59501645e-07, -8.81785483e-04,\n",
       "         -1.17180136e-03, -1.62596708e-16],\n",
       "        [ 5.51863314e-01,  7.97060974e-01,  3.41795761e-01,\n",
       "          3.55269315e-01, -1.96371488e-01,  7.77775323e-01,\n",
       "          3.26899904e-12,  1.87055405e-01]]),\n",
       " array([[-7.47676316e-01],\n",
       "        [-8.87430813e-01],\n",
       "        [ 1.83366358e-01],\n",
       "        [ 1.17767149e+00],\n",
       "        [ 1.53707547e-01],\n",
       "        [-1.20561331e+00],\n",
       "        [ 2.20403344e-07],\n",
       "        [-1.71584751e+00]])]"
      ]
     },
     "execution_count": 37,
     "metadata": {},
     "output_type": "execute_result"
    }
   ],
   "source": [
    "cls.coefs_"
   ]
  },
  {
   "cell_type": "code",
   "execution_count": 39,
   "id": "5f2702a9",
   "metadata": {},
   "outputs": [
    {
     "data": {
      "text/plain": [
       "[array([-0.46670345, -0.47943952, -0.30690342, -0.32778142, -0.39939342,\n",
       "         0.25501977,  0.70148266, -0.56564312]),\n",
       " array([ 0.19913919,  0.41890466, -0.1468135 ,  0.31270516,  0.43871274,\n",
       "         0.03019501, -0.24047081,  0.58337479]),\n",
       " array([ 0.30612147, -0.12579121, -0.06362709, -0.21876846,  0.01754296,\n",
       "        -0.00503249, -0.24553473, -0.10857675]),\n",
       " array([0.06695766])]"
      ]
     },
     "execution_count": 39,
     "metadata": {},
     "output_type": "execute_result"
    }
   ],
   "source": [
    "cls.intercepts_"
   ]
  }
 ],
 "metadata": {
  "kernelspec": {
   "display_name": "Python 3 (ipykernel)",
   "language": "python",
   "name": "python3"
  },
  "language_info": {
   "codemirror_mode": {
    "name": "ipython",
    "version": 3
   },
   "file_extension": ".py",
   "mimetype": "text/x-python",
   "name": "python",
   "nbconvert_exporter": "python",
   "pygments_lexer": "ipython3",
   "version": "3.9.12"
  }
 },
 "nbformat": 4,
 "nbformat_minor": 5
}
