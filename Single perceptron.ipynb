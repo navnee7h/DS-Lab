{
 "cells": [
  {
   "cell_type": "markdown",
   "id": "b1b8f14f",
   "metadata": {},
   "source": [
    "Navaneeth Krishnan\n",
    "10-11-22"
   ]
  },
  {
   "cell_type": "code",
   "execution_count": 6,
   "id": "04bb1dff",
   "metadata": {},
   "outputs": [
    {
     "data": {
      "text/plain": [
       "Perceptron()"
      ]
     },
     "execution_count": 6,
     "metadata": {},
     "output_type": "execute_result"
    }
   ],
   "source": [
    "from sklearn.linear_model import Perceptron\n",
    "\n",
    "xtr=[[0,0],[0,1],[1,0],[1,1]]\n",
    "ytr=[0,0,0,1]\n",
    "\n",
    "\n",
    "cls=Perceptron(tol=1e-3,random_state=0)\n",
    "cls.fit(xtr,ytr)"
   ]
  },
  {
   "cell_type": "code",
   "execution_count": 7,
   "id": "cbb00b8a",
   "metadata": {},
   "outputs": [],
   "source": [
    "yp=cls.predict(xtr)"
   ]
  },
  {
   "cell_type": "code",
   "execution_count": 9,
   "id": "6ccadd5a",
   "metadata": {},
   "outputs": [
    {
     "name": "stdout",
     "output_type": "stream",
     "text": [
      "[0 0 0 1]\n"
     ]
    }
   ],
   "source": [
    "print(yp)"
   ]
  },
  {
   "cell_type": "code",
   "execution_count": 10,
   "id": "783568c8",
   "metadata": {},
   "outputs": [
    {
     "name": "stdout",
     "output_type": "stream",
     "text": [
      "[[2. 2.]] [-2.]\n"
     ]
    }
   ],
   "source": [
    "print(cls.coef_,cls.intercept_)"
   ]
  }
 ],
 "metadata": {
  "kernelspec": {
   "display_name": "Python 3 (ipykernel)",
   "language": "python",
   "name": "python3"
  },
  "language_info": {
   "codemirror_mode": {
    "name": "ipython",
    "version": 3
   },
   "file_extension": ".py",
   "mimetype": "text/x-python",
   "name": "python",
   "nbconvert_exporter": "python",
   "pygments_lexer": "ipython3",
   "version": "3.9.12"
  }
 },
 "nbformat": 4,
 "nbformat_minor": 5
}
